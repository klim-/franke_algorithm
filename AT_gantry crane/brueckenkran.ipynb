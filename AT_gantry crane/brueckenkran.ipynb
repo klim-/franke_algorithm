{
 "cells": [
  {
   "cell_type": "code",
   "execution_count": 1,
   "metadata": {
    "collapsed": false
   },
   "outputs": [
    {
     "name": "stdout",
     "output_type": "stream",
     "text": [
      "Fri Jul  1 10:32:04 2016\n"
     ]
    }
   ],
   "source": [
    "import time\n",
    "print time.ctime()\n",
    "%reload_ext displaytools"
   ]
  },
  {
   "cell_type": "markdown",
   "metadata": {},
   "source": [
    "**Betrachtetes System**: Brückenkran<br>\n",
    "\n",
    "<img src=\"brueckenkran.png\" width=\"400px\">\n",
    "\n",
    "**Betrachtete Fragen**:\n",
    "* Herleitung der Modellgleichungen\n",
    "* Untersuchung der Flachheit\n",
    "\n",
    "$$\n",
    "%<custom_config>\n",
    "\\newcommand{\\col}{\\mathrm{col}}\n",
    "\\newcommand{\\bs}{\\boldsymbol}\n",
    "%</custom_config>\n",
    "$$"
   ]
  },
  {
   "cell_type": "code",
   "execution_count": 2,
   "metadata": {
    "collapsed": false
   },
   "outputs": [],
   "source": [
    "import sympy as sp\n",
    "from sympy import sin, cos, tan, pi, Matrix, Q\n",
    "from sympy.interactive import printing\n",
    "import scipy as sc\n",
    "import scipy.optimize\n",
    "\n",
    "import symbtools as st\n",
    "import symbtools.modeltools as mt\n",
    "from symbtools.modeltools import Rz\n",
    "import symbtools.noncommutativetools as nct\n",
    "\n",
    "import pycartan as pc\n",
    "\n",
    "printing.init_printing(1)"
   ]
  },
  {
   "cell_type": "code",
   "execution_count": 3,
   "metadata": {
    "collapsed": false
   },
   "outputs": [
    {
     "data": {
      "image/png": "[encoded data removed]",
      "text/latex": [
       "$$\\left[\\begin{matrix}q_{1}\\\\q_{2}\\\\q_{3}\\end{matrix}\\right]$$"
      ],
      "text/plain": [
       "⎡q₁⎤\n",
       "⎢  ⎥\n",
       "⎢q₂⎥\n",
       "⎢  ⎥\n",
       "⎣q₃⎦"
      ]
     },
     "metadata": {},
     "output_type": "display_data"
    },
    {
     "name": "stdout",
     "output_type": "stream",
     "text": [
      "---\n"
     ]
    },
    {
     "data": {
      "image/png": "[encoded data removed]",
      "text/latex": [
       "$$\\left[\\begin{matrix}\\dot{q}_{1}\\\\\\dot{q}_{2}\\\\\\dot{q}_{3}\\end{matrix}\\right]$$"
      ],
      "text/plain": [
       "⎡q̇₁⎤\n",
       "⎢   ⎥\n",
       "⎢q̇₂⎥\n",
       "⎢   ⎥\n",
       "⎣q̇₃⎦"
      ]
     },
     "metadata": {},
     "output_type": "display_data"
    },
    {
     "name": "stdout",
     "output_type": "stream",
     "text": [
      "---\n"
     ]
    },
    {
     "data": {
      "image/png": "[encoded data removed]",
      "text/latex": [
       "$$\\left[\\begin{matrix}\\ddot{q}_{1}\\\\\\ddot{q}_{2}\\\\\\ddot{q}_{3}\\end{matrix}\\right]$$"
      ],
      "text/plain": [
       "⎡q̈₁⎤\n",
       "⎢   ⎥\n",
       "⎢q̈₂⎥\n",
       "⎢   ⎥\n",
       "⎣q̈₃⎦"
      ]
     },
     "metadata": {},
     "output_type": "display_data"
    },
    {
     "name": "stdout",
     "output_type": "stream",
     "text": [
      "---\n"
     ]
    }
   ],
   "source": [
    "t = sp.Symbol('t')\n",
    "np = 1 # passiv\n",
    "na = 2 # aktiv\n",
    "n = np + na\n",
    "\n",
    "qq = st.symb_vector(\"q1:{0}\".format(n+1)) ##\n",
    "qqdot = st.time_deriv(qq, qq) ##\n",
    "qqddot = st.time_deriv(qq, qq, order=2) ##\n",
    "\n",
    "st.make_global(qq)\n",
    "st.make_global(qqdot)\n",
    "st.make_global(qqddot)"
   ]
  },
  {
   "cell_type": "code",
   "execution_count": 4,
   "metadata": {
    "collapsed": false
   },
   "outputs": [
    {
     "data": {
      "image/png": "[encoded data removed]",
      "text/latex": [
       "$$\\left[\\begin{matrix}\\tau_{1}\\\\\\tau_{2}\\end{matrix}\\right]$$"
      ],
      "text/plain": [
       "⎡τ₁⎤\n",
       "⎢  ⎥\n",
       "⎣τ₂⎦"
      ]
     },
     "metadata": {},
     "output_type": "display_data"
    },
    {
     "name": "stdout",
     "output_type": "stream",
     "text": [
      "---\n"
     ]
    }
   ],
   "source": [
    "params = sp.symbols('m1, m2, g')\n",
    "st.make_global(params)\n",
    "\n",
    "ttau = st.symb_vector(\"tau1:{0}\".format(na+1)) ##\n",
    "st.make_global(ttau)"
   ]
  },
  {
   "cell_type": "markdown",
   "metadata": {},
   "source": [
    "### Festlegung der Geometrie des mechanischen Systemes"
   ]
  },
  {
   "cell_type": "code",
   "execution_count": 5,
   "metadata": {
    "collapsed": false
   },
   "outputs": [
    {
     "data": {
      "image/png": "[encoded data removed]",
      "text/latex": [
       "$$\\left[\\begin{matrix}\\dot{q}_{2}\\\\0\\end{matrix}\\right]$$"
      ],
      "text/plain": [
       "⎡q̇₂⎤\n",
       "⎢   ⎥\n",
       "⎣ 0 ⎦"
      ]
     },
     "metadata": {},
     "output_type": "display_data"
    },
    {
     "data": {
      "image/png": "[encoded data removed]",
      "text/latex": [
       "$$\\left[\\begin{matrix}q_{3} \\dot{q}_{1} \\cos{\\left (q_{1} \\right )} + \\dot{q}_{2} + \\dot{q}_{3} \\sin{\\left (q_{1} \\right )}\\\\q_{3} \\dot{q}_{1} \\sin{\\left (q_{1} \\right )} - \\dot{q}_{3} \\cos{\\left (q_{1} \\right )}\\end{matrix}\\right]$$"
      ],
      "text/plain": [
       "⎡q₃⋅q̇₁⋅cos(q₁) + q̇₂ + q̇₃⋅sin(q₁)⎤\n",
       "⎢                                  ⎥\n",
       "⎣   q₃⋅q̇₁⋅sin(q₁) - q̇₃⋅cos(q₁)   ⎦"
      ]
     },
     "metadata": {},
     "output_type": "display_data"
    },
    {
     "name": "stdout",
     "output_type": "stream",
     "text": [
      "---\n"
     ]
    }
   ],
   "source": [
    "#Einheitsvektoren\n",
    "ex = sp.Matrix([1,0])\n",
    "ey = sp.Matrix([0,1])\n",
    "\n",
    "# Koordinaten der Schwerpunkte und Gelenke\n",
    "S1 = q2*ex\n",
    "S2 = S1 + Rz(q1)*(-ey)*q3\n",
    "\n",
    "# Zeitableitungen der Schwerpunktskoordinaten\n",
    "Sd1, Sd2 = st.col_split(st.time_deriv(st.col_stack(S1, S2), qq)) ##"
   ]
  },
  {
   "cell_type": "code",
   "execution_count": 6,
   "metadata": {
    "collapsed": false
   },
   "outputs": [
    {
     "data": {
      "image/png": "[encoded data removed]",
      "text/latex": [
       "$$\\frac{m_{1} \\dot{q}_{2}^{2}}{2} + \\frac{m_{2}}{2} \\left(q_{3} \\dot{q}_{1} \\sin{\\left (q_{1} \\right )} - \\dot{q}_{3} \\cos{\\left (q_{1} \\right )}\\right)^{2} + \\frac{m_{2}}{2} \\left(q_{3} \\dot{q}_{1} \\cos{\\left (q_{1} \\right )} + \\dot{q}_{2} + \\dot{q}_{3} \\sin{\\left (q_{1} \\right )}\\right)^{2}$$"
      ],
      "text/plain": [
       "      2                                    2                                  \n",
       "m₁⋅q̇₂    m₂⋅(q₃⋅q̇₁⋅sin(q₁) - q̇₃⋅cos(q₁))    m₂⋅(q₃⋅q̇₁⋅cos(q₁) + q̇₂ + q̇₃⋅\n",
       "─────── + ────────────────────────────────── + ───────────────────────────────\n",
       "   2                      2                                       2           \n",
       "\n",
       "        2\n",
       "sin(q₁)) \n",
       "─────────\n",
       "         "
      ]
     },
     "metadata": {},
     "output_type": "display_data"
    },
    {
     "name": "stdout",
     "output_type": "stream",
     "text": [
      "---\n"
     ]
    }
   ],
   "source": [
    "# Energie\n",
    "T_rot = 0\n",
    "T_trans = (m1*Sd1.T*Sd1 + m2*Sd2.T*Sd2)/2\n",
    "\n",
    "T = T_rot + T_trans[0] ##\n",
    "V = m2*g*S2[1]"
   ]
  },
  {
   "cell_type": "code",
   "execution_count": 7,
   "metadata": {
    "collapsed": false
   },
   "outputs": [],
   "source": [
    "external_forces = [0, tau1, tau2]\n",
    "assert not any(external_forces[:np])\n",
    "mod = mt.generate_symbolic_model(T, V, qq, external_forces)"
   ]
  },
  {
   "cell_type": "code",
   "execution_count": 8,
   "metadata": {
    "collapsed": false
   },
   "outputs": [
    {
     "data": {
      "image/png": "[encoded data removed]",
      "text/latex": [
       "$$\\left[\\begin{matrix}m_{2} q_{3}^{2} & m_{2} q_{3} \\cos{\\left (q_{1} \\right )} & 0\\\\m_{2} q_{3} \\cos{\\left (q_{1} \\right )} & m_{1} + m_{2} & m_{2} \\sin{\\left (q_{1} \\right )}\\\\0 & m_{2} \\sin{\\left (q_{1} \\right )} & m_{2}\\end{matrix}\\right]$$"
      ],
      "text/plain": [
       "⎡        2                               ⎤\n",
       "⎢   m₂⋅q₃       m₂⋅q₃⋅cos(q₁)      0     ⎥\n",
       "⎢                                        ⎥\n",
       "⎢m₂⋅q₃⋅cos(q₁)     m₁ + m₂     m₂⋅sin(q₁)⎥\n",
       "⎢                                        ⎥\n",
       "⎣      0         m₂⋅sin(q₁)        m₂    ⎦"
      ]
     },
     "metadata": {},
     "output_type": "display_data"
    },
    {
     "name": "stdout",
     "output_type": "stream",
     "text": [
      "---\n"
     ]
    }
   ],
   "source": [
    "MM = sp.simplify(mod.MM) ##"
   ]
  },
  {
   "cell_type": "code",
   "execution_count": 9,
   "metadata": {
    "collapsed": false
   },
   "outputs": [
    {
     "data": {
      "image/png": "[encoded data removed]",
      "text/latex": [
       "$$\\left[\\begin{matrix}m_{2} q_{3} \\left(g \\sin{\\left (q_{1} \\right )} + q_{3} \\ddot{q}_{1} + \\ddot{q}_{2} \\cos{\\left (q_{1} \\right )} + 2 \\dot{q}_{1} \\dot{q}_{3}\\right)\\end{matrix}\\right]$$"
      ],
      "text/plain": [
       "[m₂⋅q₃⋅(g⋅sin(q₁) + q₃⋅q̈₁ + q̈₂⋅cos(q₁) + 2⋅q̇₁⋅q̇₃)]"
      ]
     },
     "metadata": {},
     "output_type": "display_data"
    },
    {
     "name": "stdout",
     "output_type": "stream",
     "text": [
      "---\n"
     ]
    },
    {
     "data": {
      "image/png": "[encoded data removed]",
      "text/latex": [
       "$$\\left[\\begin{matrix}g \\sin{\\left (q_{1} \\right )} + q_{3} \\ddot{q}_{1} + \\ddot{q}_{2} \\cos{\\left (q_{1} \\right )} + 2 \\dot{q}_{1} \\dot{q}_{3}\\end{matrix}\\right]$$"
      ],
      "text/plain": [
       "[g⋅sin(q₁) + q₃⋅q̈₁ + q̈₂⋅cos(q₁) + 2⋅q̇₁⋅q̇₃]"
      ]
     },
     "metadata": {},
     "output_type": "display_data"
    },
    {
     "name": "stdout",
     "output_type": "stream",
     "text": [
      "---\n"
     ]
    }
   ],
   "source": [
    "# Implizite Systemgleichung 0=FF\n",
    "FF = sp.simplify(mod.eqns[:np, :]) ##\n",
    "# Vereinfachung\n",
    "FF = FF/(m2*q3) ##"
   ]
  },
  {
   "cell_type": "code",
   "execution_count": 10,
   "metadata": {
    "collapsed": false
   },
   "outputs": [],
   "source": [
    "s = sp.Symbol('s', commutative=False)"
   ]
  },
  {
   "cell_type": "markdown",
   "metadata": {
    "collapsed": false
   },
   "source": [
    "### System in Darstellung 1. Ordnung"
   ]
  },
  {
   "cell_type": "code",
   "execution_count": 11,
   "metadata": {
    "collapsed": false
   },
   "outputs": [],
   "source": [
    "vec_x = st.symb_vector('x1:7', commutative=False)\n",
    "vec_xdot = st.time_deriv(vec_x, vec_x)\n",
    "st.make_global(vec_x)\n",
    "st.make_global(vec_xdot)"
   ]
  },
  {
   "cell_type": "code",
   "execution_count": 12,
   "metadata": {
    "collapsed": false
   },
   "outputs": [
    {
     "data": {
      "image/png": "[encoded data removed]",
      "text/latex": [
       "$$\\left[\\begin{matrix}- x_{4} + \\dot{x}_{1}\\\\- x_{5} + \\dot{x}_{2}\\\\- x_{6} + \\dot{x}_{3}\\\\g \\sin{\\left (x_{1} \\right )} + x_{3} \\dot{x}_{4} + 2 x_{4} x_{6} + \\dot{x}_{5} \\cos{\\left (x_{1} \\right )}\\end{matrix}\\right]$$"
      ],
      "text/plain": [
       "⎡                -x₄ + ẋ₁                 ⎤\n",
       "⎢                                          ⎥\n",
       "⎢                -x₅ + ẋ₂                 ⎥\n",
       "⎢                                          ⎥\n",
       "⎢                -x₆ + ẋ₃                 ⎥\n",
       "⎢                                          ⎥\n",
       "⎣g⋅sin(x₁) + x₃⋅ẋ₄ + 2⋅x₄⋅x₆ + ẋ₅⋅cos(x₁)⎦"
      ]
     },
     "execution_count": 12,
     "metadata": {},
     "output_type": "execute_result"
    }
   ],
   "source": [
    "FF_zustand = sp.Matrix([\n",
    "        [xdot1-x4],\n",
    "        [xdot2-x5],\n",
    "        [xdot3-x6],\n",
    "        [g*sin(x1)+x3*xdot4+2*x4*x6+xdot5*cos(x1)]\n",
    "    ])\n",
    "FF_zustand"
   ]
  },
  {
   "cell_type": "markdown",
   "metadata": {},
   "source": [
    "### Tangentialsystem"
   ]
  },
  {
   "cell_type": "code",
   "execution_count": 13,
   "metadata": {
    "collapsed": false
   },
   "outputs": [
    {
     "data": {
      "image/png": "[encoded data removed]",
      "text/latex": [
       "$$\\left[\\begin{matrix}1 & 0 & 0 & 0 & 0 & 0\\\\0 & 1 & 0 & 0 & 0 & 0\\\\0 & 0 & 1 & 0 & 0 & 0\\\\0 & 0 & 0 & x_{3} & \\cos{\\left (x_{1} \\right )} & 0\\end{matrix}\\right]$$"
      ],
      "text/plain": [
       "⎡1  0  0  0      0     0⎤\n",
       "⎢                       ⎥\n",
       "⎢0  1  0  0      0     0⎥\n",
       "⎢                       ⎥\n",
       "⎢0  0  1  0      0     0⎥\n",
       "⎢                       ⎥\n",
       "⎣0  0  0  x₃  cos(x₁)  0⎦"
      ]
     },
     "metadata": {},
     "output_type": "display_data"
    },
    {
     "name": "stdout",
     "output_type": "stream",
     "text": [
      "---\n"
     ]
    },
    {
     "data": {
      "image/png": "[encoded data removed]",
      "text/latex": [
       "$$\\left[\\begin{matrix}0 & 0 & 0 & -1 & 0 & 0\\\\0 & 0 & 0 & 0 & -1 & 0\\\\0 & 0 & 0 & 0 & 0 & -1\\\\g \\cos{\\left (x_{1} \\right )} - \\dot{x}_{5} \\sin{\\left (x_{1} \\right )} & 0 & \\dot{x}_{4} & 2 x_{6} & 0 & 2 x_{4}\\end{matrix}\\right]$$"
      ],
      "text/plain": [
       "⎡           0             0   0    -1   0    0  ⎤\n",
       "⎢                                               ⎥\n",
       "⎢           0             0   0    0    -1   0  ⎥\n",
       "⎢                                               ⎥\n",
       "⎢           0             0   0    0    0    -1 ⎥\n",
       "⎢                                               ⎥\n",
       "⎣g⋅cos(x₁) - ẋ₅⋅sin(x₁)  0  ẋ₄  2⋅x₆  0   2⋅x₄⎦"
      ]
     },
     "metadata": {},
     "output_type": "display_data"
    },
    {
     "name": "stdout",
     "output_type": "stream",
     "text": [
      "---\n"
     ]
    }
   ],
   "source": [
    "P1 = FF_zustand.jacobian(vec_xdot) ##\n",
    "P0 = FF_zustand.jacobian(vec_x) ##"
   ]
  },
  {
   "cell_type": "markdown",
   "metadata": {},
   "source": [
    "### Unimodulare Ergänzung des Tangentialsystem"
   ]
  },
  {
   "cell_type": "code",
   "execution_count": 14,
   "metadata": {
    "collapsed": false
   },
   "outputs": [
    {
     "data": {
      "image/png": "[encoded data removed]",
      "text/latex": [
       "$$\\left[\\begin{matrix}x_{1}\\\\x_{2}\\\\x_{3}\\\\\\dot{x}_{1}\\\\\\dot{x}_{2}\\\\\\dot{x}_{3}\\\\\\ddot{x}_{1}\\\\\\ddot{x}_{2}\\\\\\ddot{x}_{3}\\end{matrix}\\right]$$"
      ],
      "text/plain": [
       "⎡x₁ ⎤\n",
       "⎢   ⎥\n",
       "⎢x₂ ⎥\n",
       "⎢   ⎥\n",
       "⎢x₃ ⎥\n",
       "⎢   ⎥\n",
       "⎢ẋ₁⎥\n",
       "⎢   ⎥\n",
       "⎢ẋ₂⎥\n",
       "⎢   ⎥\n",
       "⎢ẋ₃⎥\n",
       "⎢   ⎥\n",
       "⎢ẍ₁⎥\n",
       "⎢   ⎥\n",
       "⎢ẍ₂⎥\n",
       "⎢   ⎥\n",
       "⎣ẍ₃⎦"
      ]
     },
     "metadata": {},
     "output_type": "display_data"
    },
    {
     "name": "stdout",
     "output_type": "stream",
     "text": [
      "---\n"
     ]
    }
   ],
   "source": [
    "basis_vec = st.row_stack(vec_x[:3,:], vec_xdot[:3,:], st.time_deriv(vec_xdot[:3,:],vec_xdot[:3,:])) ##"
   ]
  },
  {
   "cell_type": "code",
   "execution_count": 16,
   "metadata": {
    "collapsed": false
   },
   "outputs": [],
   "source": [
    "# Lade Ergebnis aus uc_algorithm.py Ergebnis-Datei\n",
    "data = st.pickle_full_load(\"brueckenkran_zustandsdarstellung_nct.pcl\")"
   ]
  },
  {
   "cell_type": "code",
   "execution_count": 17,
   "metadata": {
    "collapsed": false
   },
   "outputs": [
    {
     "data": {
      "image/png": "[encoded data removed]",
      "text/latex": [
       "$$\\left[\\begin{matrix}- x_{4} + \\dot{x}_{1}\\\\- x_{5} + \\dot{x}_{2}\\\\- x_{6} + \\dot{x}_{3}\\\\g \\sin{\\left (x_{1} \\right )} + 2 x_{4} x_{6} + \\dot{x}_{4} x_{3} + \\cos{\\left (x_{1} \\right )} \\dot{x}_{5}\\end{matrix}\\right]$$"
      ],
      "text/plain": [
       "⎡                -x₄ + ẋ₁                 ⎤\n",
       "⎢                                          ⎥\n",
       "⎢                -x₅ + ẋ₂                 ⎥\n",
       "⎢                                          ⎥\n",
       "⎢                -x₆ + ẋ₃                 ⎥\n",
       "⎢                                          ⎥\n",
       "⎣g⋅sin(x₁) + 2⋅x₄⋅x₆ + ẋ₄⋅x₃ + cos(x₁)⋅ẋ₅⎦"
      ]
     },
     "execution_count": 17,
     "metadata": {},
     "output_type": "execute_result"
    }
   ],
   "source": [
    "data.F_eq"
   ]
  },
  {
   "cell_type": "code",
   "execution_count": 18,
   "metadata": {
    "collapsed": false
   },
   "outputs": [
    {
     "data": {
      "image/png": "[encoded data removed]",
      "text/latex": [
       "$$\\left[\\begin{matrix}s & 0 & 0 & -1 & 0 & 0\\\\0 & s & 0 & 0 & -1 & 0\\\\0 & 0 & s & 0 & 0 & -1\\\\g \\cos{\\left (x_{1} \\right )} - \\dot{x}_{5} \\sin{\\left (x_{1} \\right )} & 0 & \\dot{x}_{4} & x_{3} s + 2 x_{6} & \\cos{\\left (x_{1} \\right )} s & 2 x_{4}\\end{matrix}\\right]$$"
      ],
      "text/plain": [
       "⎡           s             0   0       -1           0       0  ⎤\n",
       "⎢                                                             ⎥\n",
       "⎢           0             s   0        0          -1       0  ⎥\n",
       "⎢                                                             ⎥\n",
       "⎢           0             0   s        0           0       -1 ⎥\n",
       "⎢                                                             ⎥\n",
       "⎣g⋅cos(x₁) - ẋ₅⋅sin(x₁)  0  ẋ₄  x₃⋅s + 2⋅x₆  cos(x₁)⋅s  2⋅x₄⎦"
      ]
     },
     "metadata": {},
     "output_type": "display_data"
    },
    {
     "name": "stdout",
     "output_type": "stream",
     "text": [
      "---\n"
     ]
    }
   ],
   "source": [
    "# P = P1*s + P0\n",
    "P = data.P ##"
   ]
  },
  {
   "cell_type": "code",
   "execution_count": 20,
   "metadata": {
    "collapsed": false
   },
   "outputs": [
    {
     "data": {
      "image/png": "[encoded data removed]",
      "text/latex": [
       "$$\\left[\\begin{matrix}x_{3} & \\cos{\\left (x_{1} \\right )} & 0 & 0 & 0 & 0\\\\2 x_{6} - \\dot{x}_{1} \\tan{\\left (x_{1} \\right )} x_{3} - \\dot{x}_{3} & 0 & 2 x_{4} & x_{3} & \\cos{\\left (x_{1} \\right )} & 0\\end{matrix}\\right]$$"
      ],
      "text/plain": [
       "⎡            x₃               cos(x₁)   0    0      0     0⎤\n",
       "⎢                                                          ⎥\n",
       "⎣2⋅x₆ - ẋ₁⋅tan(x₁)⋅x₃ - ẋ₃     0     2⋅x₄  x₃  cos(x₁)  0⎦"
      ]
     },
     "metadata": {},
     "output_type": "display_data"
    },
    {
     "name": "stdout",
     "output_type": "stream",
     "text": [
      "---\n"
     ]
    }
   ],
   "source": [
    "H = data.Q ##"
   ]
  },
  {
   "cell_type": "markdown",
   "metadata": {},
   "source": [
    "### Integrabilitätsprüfung"
   ]
  },
  {
   "cell_type": "code",
   "execution_count": 22,
   "metadata": {
    "collapsed": false
   },
   "outputs": [
    {
     "data": {
      "image/png": "[encoded data removed]",
      "text/latex": [
       "$$\\left[\\begin{matrix}1 & 0\\\\- s & 1\\end{matrix}\\right]$$"
      ],
      "text/plain": [
       "⎡1   0⎤\n",
       "⎢     ⎥\n",
       "⎣-s  1⎦"
      ]
     },
     "metadata": {},
     "output_type": "display_data"
    },
    {
     "name": "stdout",
     "output_type": "stream",
     "text": [
      "---\n"
     ]
    }
   ],
   "source": [
    "M1 = sp.Matrix([[1, 0], [-s, 1]]) ##"
   ]
  },
  {
   "cell_type": "code",
   "execution_count": 25,
   "metadata": {
    "collapsed": false
   },
   "outputs": [
    {
     "data": {
      "image/png": "[encoded data removed]",
      "text/latex": [
       "$$\\left[\\begin{matrix}x_{3} & \\cos{\\left (x_{1} \\right )} & 0 & 0 & 0 & 0 & 0 & 0 & 0\\\\2 x_{6} - \\dot{x}_{1} \\tan{\\left (x_{1} \\right )} x_{3} - \\dot{x}_{3} & 0 & 2 x_{4} & x_{3} & \\cos{\\left (x_{1} \\right )} & 0 & 0 & 0 & 0\\end{matrix}\\right]$$"
      ],
      "text/plain": [
       "⎡            x₃               cos(x₁)   0    0      0     0  0  0  0⎤\n",
       "⎢                                                                   ⎥\n",
       "⎣2⋅x₆ - ẋ₁⋅tan(x₁)⋅x₃ - ẋ₃     0     2⋅x₄  x₃  cos(x₁)  0  0  0  0⎦"
      ]
     },
     "execution_count": 25,
     "metadata": {},
     "output_type": "execute_result"
    }
   ],
   "source": [
    "H_ = st.col_stack(H, sp.zeros(2,3))\n",
    "Hdx = pc.VectorDifferentialForm(1, basis_vec, coeff=H_)\n",
    "Hdx.coeff"
   ]
  },
  {
   "cell_type": "code",
   "execution_count": 26,
   "metadata": {
    "collapsed": false
   },
   "outputs": [
    {
     "data": {
      "image/png": "[encoded data removed]",
      "text/latex": [
       "$$\\left[\\begin{matrix}x_{3} & \\cos{\\left (x_{1} \\right )} & 0 & 0 & 0 & 0 & 0 & 0 & 0\\\\2 x_{6} - \\dot{x}_{1} \\tan{\\left (x_{1} \\right )} x_{3} - 2 \\dot{x}_{3} & \\sin{\\left (x_{1} \\right )} \\dot{x}_{1} & 2 x_{4} & 0 & 0 & 0 & 0 & 0 & 0\\end{matrix}\\right]$$"
      ],
      "text/plain": [
       "⎡             x₃                  cos(x₁)     0    0  0  0  0  0  0⎤\n",
       "⎢                                                                  ⎥\n",
       "⎣2⋅x₆ - ẋ₁⋅tan(x₁)⋅x₃ - 2⋅ẋ₃  sin(x₁)⋅ẋ₁  2⋅x₄  0  0  0  0  0  0⎦"
      ]
     },
     "execution_count": 26,
     "metadata": {},
     "output_type": "execute_result"
    }
   ],
   "source": [
    "H1dx = Hdx.left_mul_by(M1,s)\n",
    "H1dx.coeff"
   ]
  },
  {
   "cell_type": "code",
   "execution_count": 27,
   "metadata": {
    "collapsed": false
   },
   "outputs": [
    {
     "data": {
      "image/png": "[encoded data removed]",
      "text/latex": [
       "$$\\left[\\begin{matrix}x_{3} & \\cos{\\left (x_{1} \\right )} & 0 & 0 & 0 & 0 & 0 & 0 & 0\\\\- \\dot{x}_{1} \\tan{\\left (x_{1} \\right )} x_{3} & \\sin{\\left (x_{1} \\right )} \\dot{x}_{1} & 2 \\dot{x}_{1} & 0 & 0 & 0 & 0 & 0 & 0\\end{matrix}\\right]$$"
      ],
      "text/plain": [
       "⎡      x₃           cos(x₁)      0    0  0  0  0  0  0⎤\n",
       "⎢                                                     ⎥\n",
       "⎣-ẋ₁⋅tan(x₁)⋅x₃  sin(x₁)⋅ẋ₁  2⋅ẋ₁  0  0  0  0  0  0⎦"
      ]
     },
     "execution_count": 27,
     "metadata": {},
     "output_type": "execute_result"
    }
   ],
   "source": [
    "# Substitution mit definitorischen Gleichungen: x4=xdot1, x6=xdot3\n",
    "H2_ = H1dx.coeff.subs(x4, xdot1).subs(x6, xdot3)\n",
    "H2dx = pc.VectorDifferentialForm(1, basis_vec, coeff=H2_)\n",
    "H2dx.coeff"
   ]
  },
  {
   "cell_type": "code",
   "execution_count": 28,
   "metadata": {
    "collapsed": false
   },
   "outputs": [
    {
     "data": {
      "image/png": "[encoded data removed]",
      "text/latex": [
       "$$\\left[\\begin{matrix}x_{3} & \\cos{\\left (x_{1} \\right )} & 0\\\\- \\dot{x}_{1} \\tan{\\left (x_{1} \\right )} x_{3} & \\sin{\\left (x_{1} \\right )} \\dot{x}_{1} & 2 \\dot{x}_{1}\\end{matrix}\\right]$$"
      ],
      "text/plain": [
       "⎡      x₃           cos(x₁)      0  ⎤\n",
       "⎢                                   ⎥\n",
       "⎣-ẋ₁⋅tan(x₁)⋅x₃  sin(x₁)⋅ẋ₁  2⋅ẋ₁⎦"
      ]
     },
     "metadata": {},
     "output_type": "display_data"
    },
    {
     "name": "stdout",
     "output_type": "stream",
     "text": [
      "---\n"
     ]
    }
   ],
   "source": [
    "# Betrachten der ersten 3 Spalten\n",
    "H2_2 = st.col_select(H2dx.coeff, 0, 1, 2) ##"
   ]
  },
  {
   "cell_type": "code",
   "execution_count": 29,
   "metadata": {
    "collapsed": false
   },
   "outputs": [
    {
     "data": {
      "image/png": "[encoded data removed]",
      "text/latex": [
       "$$\\left[\\begin{matrix}x_{3} & \\cos{\\left (x_{1} \\right )} & 0\\\\- x_{3} \\dot{x}_{1} \\tan{\\left (x_{1} \\right )} & \\dot{x}_{1} \\sin{\\left (x_{1} \\right )} & 2 \\dot{x}_{1}\\end{matrix}\\right]$$"
      ],
      "text/plain": [
       "⎡      x₃           cos(x₁)      0  ⎤\n",
       "⎢                                   ⎥\n",
       "⎣-x₃⋅ẋ₁⋅tan(x₁)  ẋ₁⋅sin(x₁)  2⋅ẋ₁⎦"
      ]
     },
     "metadata": {},
     "output_type": "display_data"
    },
    {
     "name": "stdout",
     "output_type": "stream",
     "text": [
      "---\n"
     ]
    },
    {
     "data": {
      "image/png": "[encoded data removed]",
      "text/latex": [
       "$$\\left[\\begin{matrix}1 & 0\\\\0 & \\frac{1}{\\dot{x}_{1}}\\end{matrix}\\right]$$"
      ],
      "text/plain": [
       "⎡1   0 ⎤\n",
       "⎢      ⎥\n",
       "⎢    1 ⎥\n",
       "⎢0  ───⎥\n",
       "⎣   ẋ₁⎦"
      ]
     },
     "metadata": {},
     "output_type": "display_data"
    },
    {
     "name": "stdout",
     "output_type": "stream",
     "text": [
      "---\n"
     ]
    }
   ],
   "source": [
    "# Nichtkommutativität nicht mehr benötigt: Symbole in kommutative umwandeln\n",
    "H2 = nct.make_all_symbols_commutative(H2_2, appendix='')[0] ##\n",
    "M2 = nct.make_all_symbols_commutative(sp.Matrix([[1,0],[0,1/xdot1]]), appendix='')[0] ##"
   ]
  },
  {
   "cell_type": "code",
   "execution_count": 30,
   "metadata": {
    "collapsed": false
   },
   "outputs": [
    {
     "data": {
      "image/png": "[encoded data removed]",
      "text/latex": [
       "$$\\left[\\begin{matrix}x_{3} & \\cos{\\left (x_{1} \\right )} & 0\\\\- x_{3} \\tan{\\left (x_{1} \\right )} & \\sin{\\left (x_{1} \\right )} & 2\\end{matrix}\\right]$$"
      ],
      "text/plain": [
       "⎡    x₃       cos(x₁)  0⎤\n",
       "⎢                       ⎥\n",
       "⎣-x₃⋅tan(x₁)  sin(x₁)  2⎦"
      ]
     },
     "metadata": {},
     "output_type": "display_data"
    },
    {
     "name": "stdout",
     "output_type": "stream",
     "text": [
      "---\n"
     ]
    }
   ],
   "source": [
    "H3 = sp.simplify(M2*H2) ##"
   ]
  },
  {
   "cell_type": "code",
   "execution_count": 31,
   "metadata": {
    "collapsed": false
   },
   "outputs": [
    {
     "data": {
      "image/png": "[encoded data removed]",
      "text/latex": [
       "$$\\left[\\begin{matrix}\\frac{1}{2 x_{3}} & - \\frac{1}{2 x_{3} \\tan{\\left (x_{1} \\right )}}\\\\\\frac{1}{2 \\cos{\\left (x_{1} \\right )}} & \\frac{1}{2 \\sin{\\left (x_{1} \\right )}}\\end{matrix}\\right]$$"
      ],
      "text/plain": [
       "⎡   1           -1      ⎤\n",
       "⎢  ────     ────────────⎥\n",
       "⎢  2⋅x₃     2⋅x₃⋅tan(x₁)⎥\n",
       "⎢                       ⎥\n",
       "⎢    1           1      ⎥\n",
       "⎢─────────   ─────────  ⎥\n",
       "⎣2⋅cos(x₁)   2⋅sin(x₁)  ⎦"
      ]
     },
     "metadata": {},
     "output_type": "display_data"
    },
    {
     "name": "stdout",
     "output_type": "stream",
     "text": [
      "---\n"
     ]
    }
   ],
   "source": [
    "M3_nct = sp.Matrix([[1/(2*x3),-1/(2*x3*tan(x1))],[1/(2*cos(x1)),1/(2*sin(x1))]])\n",
    "M3 = nct.make_all_symbols_commutative(M3_nct, appendix='')[0] ##"
   ]
  },
  {
   "cell_type": "code",
   "execution_count": 32,
   "metadata": {
    "collapsed": false
   },
   "outputs": [
    {
     "data": {
      "image/png": "[encoded data removed]",
      "text/latex": [
       "$$\\left[\\begin{matrix}1 & 0 & - \\frac{1}{x_{3} \\tan{\\left (x_{1} \\right )}}\\\\0 & 1 & \\frac{1}{\\sin{\\left (x_{1} \\right )}}\\end{matrix}\\right]$$"
      ],
      "text/plain": [
       "⎡         -1     ⎤\n",
       "⎢1  0  ──────────⎥\n",
       "⎢      x₃⋅tan(x₁)⎥\n",
       "⎢                ⎥\n",
       "⎢          1     ⎥\n",
       "⎢0  1   ───────  ⎥\n",
       "⎣       sin(x₁)  ⎦"
      ]
     },
     "metadata": {},
     "output_type": "display_data"
    },
    {
     "name": "stdout",
     "output_type": "stream",
     "text": [
      "---\n"
     ]
    }
   ],
   "source": [
    "H4 = sp.simplify(M3*H3) ##"
   ]
  },
  {
   "cell_type": "code",
   "execution_count": 33,
   "metadata": {
    "collapsed": false
   },
   "outputs": [
    {
     "data": {
      "image/png": "[encoded data removed]",
      "text/latex": [
       "$$\\left[\\begin{matrix}x_{3} \\sin{\\left (x_{1} \\right )} & 0\\\\x_{3} \\cos{\\left (x_{1} \\right )} & 1\\end{matrix}\\right]$$"
      ],
      "text/plain": [
       "⎡x₃⋅sin(x₁)  0⎤\n",
       "⎢             ⎥\n",
       "⎣x₃⋅cos(x₁)  1⎦"
      ]
     },
     "metadata": {},
     "output_type": "display_data"
    },
    {
     "name": "stdout",
     "output_type": "stream",
     "text": [
      "---\n"
     ]
    }
   ],
   "source": [
    "M4_nct = sp.Matrix([[x3*sin(x1),0],[x3*cos(x1),1]])\n",
    "M4 = nct.make_all_symbols_commutative(M4_nct, appendix='')[0] ##"
   ]
  },
  {
   "cell_type": "code",
   "execution_count": 54,
   "metadata": {
    "collapsed": false
   },
   "outputs": [
    {
     "data": {
      "image/png": "[encoded data removed]",
      "text/latex": [
       "$$\\left[\\begin{matrix}x_{3} \\sin{\\left (x_{1} \\right )} & 0 & - \\cos{\\left (x_{1} \\right )}\\\\x_{3} \\cos{\\left (x_{1} \\right )} & 1 & \\sin{\\left (x_{1} \\right )}\\end{matrix}\\right]$$"
      ],
      "text/plain": [
       "⎡x₃⋅sin(x₁)  0  -cos(x₁)⎤\n",
       "⎢                       ⎥\n",
       "⎣x₃⋅cos(x₁)  1  sin(x₁) ⎦"
      ]
     },
     "metadata": {},
     "output_type": "display_data"
    },
    {
     "name": "stdout",
     "output_type": "stream",
     "text": [
      "---\n"
     ]
    }
   ],
   "source": [
    "H5 = sp.simplify(M4*H4) ##"
   ]
  },
  {
   "cell_type": "markdown",
   "metadata": {},
   "source": [
    "### Flachheitsnachweis"
   ]
  },
  {
   "cell_type": "code",
   "execution_count": 57,
   "metadata": {
    "collapsed": true
   },
   "outputs": [],
   "source": [
    "basis_vec_nct = nct.make_all_symbols_commutative(basis_vec, appendix='')[0]"
   ]
  },
  {
   "cell_type": "code",
   "execution_count": 58,
   "metadata": {
    "collapsed": false
   },
   "outputs": [
    {
     "data": {
      "text/plain": [
       "(x3*sin(x1))dx1  +  (-cos(x1))dx3"
      ]
     },
     "metadata": {},
     "output_type": "display_data"
    },
    {
     "name": "stdout",
     "output_type": "stream",
     "text": [
      "---\n"
     ]
    },
    {
     "data": {
      "text/plain": [
       "(x3*cos(x1))dx1  +  (1)dx2  +  (sin(x1))dx3"
      ]
     },
     "metadata": {},
     "output_type": "display_data"
    },
    {
     "name": "stdout",
     "output_type": "stream",
     "text": [
      "---\n"
     ]
    }
   ],
   "source": [
    "H5_ = st.col_stack(H5, sp.zeros(2,6))\n",
    "H5_coeff_omega1 = st.row_split(H5_, 0)[0]\n",
    "H5_coeff_omega2 = st.row_split(H5_, 1)[0]\n",
    "omega1 = pc.DifferentialForm(1, basis_vec_nct, coeff=H5_coeff_omega1) ##\n",
    "omega2 = pc.DifferentialForm(1, basis_vec_nct, coeff=H5_coeff_omega2) ##"
   ]
  },
  {
   "cell_type": "code",
   "execution_count": 59,
   "metadata": {
    "collapsed": false
   },
   "outputs": [
    {
     "data": {
      "text/plain": [
       "(0)dx1^dx2"
      ]
     },
     "execution_count": 59,
     "metadata": {},
     "output_type": "execute_result"
    }
   ],
   "source": [
    "omega1.d"
   ]
  },
  {
   "cell_type": "code",
   "execution_count": 60,
   "metadata": {
    "collapsed": false
   },
   "outputs": [
    {
     "data": {
      "text/plain": [
       "(0)dx1^dx2"
      ]
     },
     "execution_count": 60,
     "metadata": {},
     "output_type": "execute_result"
    }
   ],
   "source": [
    "omega2.d"
   ]
  },
  {
   "cell_type": "markdown",
   "metadata": {},
   "source": [
    "### Berechnung eines flachen Ausgangs"
   ]
  },
  {
   "cell_type": "code",
   "execution_count": 61,
   "metadata": {
    "collapsed": false
   },
   "outputs": [
    {
     "data": {
      "image/png": "[encoded data removed]",
      "text/latex": [
       "$$- x_{3} \\cos{\\left (x_{1} \\right )}$$"
      ],
      "text/plain": [
       "-x₃⋅cos(x₁)"
      ]
     },
     "metadata": {},
     "output_type": "display_data"
    },
    {
     "name": "stdout",
     "output_type": "stream",
     "text": [
      "---\n"
     ]
    }
   ],
   "source": [
    "y1 = omega1.integrate() ##"
   ]
  },
  {
   "cell_type": "code",
   "execution_count": 62,
   "metadata": {
    "collapsed": false
   },
   "outputs": [
    {
     "data": {
      "image/png": "[encoded data removed]",
      "text/latex": [
       "$$x_{2} + x_{3} \\sin{\\left (x_{1} \\right )}$$"
      ],
      "text/plain": [
       "x₂ + x₃⋅sin(x₁)"
      ]
     },
     "metadata": {},
     "output_type": "display_data"
    },
    {
     "name": "stdout",
     "output_type": "stream",
     "text": [
      "---\n"
     ]
    }
   ],
   "source": [
    "y2 = omega2.integrate() ##"
   ]
  }
 ],
 "metadata": {
  "kernelspec": {
   "display_name": "Python 2",
   "language": "python",
   "name": "python2"
  },
  "language_info": {
   "codemirror_mode": {
    "name": "ipython",
    "version": 2
   },
   "file_extension": ".py",
   "mimetype": "text/x-python",
   "name": "python",
   "nbconvert_exporter": "python",
   "pygments_lexer": "ipython2",
   "version": "2.7.11"
  }
 },
 "nbformat": 4,
 "nbformat_minor": 0
}
